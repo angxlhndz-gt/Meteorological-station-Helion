{
 "cells": [
  {
   "cell_type": "code",
   "execution_count": 1,
   "metadata": {
    "vscode": {
     "languageId": "python"
    }
   },
   "outputs": [
    {
     "name": "stdout",
     "output_type": "stream",
     "text": [
      "\u001b[34mConnecting to --port=COM3 --baud=115200 \u001b[0m\n",
      "\u001b[34mReady.\n",
      "\u001b[0m..b'rd\\x00$\\x9c\\x9e|\\x00\\x8cl\\xe0|\\x03'"
     ]
    },
    {
     "name": "stderr",
     "output_type": "stream",
     "text": [
      "\fb'\\x8c'b'$\\xec'b'c|\\x8e\\x83\\x03\\xe4\\x1b\\x93{\\x93c\\x8c'b\"c\\x8c\\xfbo'\\x9flno\\xdc\\xe3\\xec\\x0c#\\x1cx\\x8c\\x8fl{l{$p\\xfb'\\xe0\\x10\\x02\"b'\\x0c\\x83'l\f\f\fb\"c\\x0co\\xe2|\\x03\\xecl\\xc4l\\x84\\x0cc\\xc4\\xf2'o\\xef\\x00d\\x8c\\x8e$`\\x03\\x98\\x13\\x1bgnl\\x84$`\\x03\\x0f\\x03g{\\x8f\\x92\\x9bo\\x0c\"b\"\\x12\\xe3l`\\x03`\\xf2'\\x0c\\x0c\"b'\\x9f\\xe0b\\xc3gd\\x8c'b'\\xc4\\xf3ng\\xef\\x00'b'\\xc7\\x07lx\\xf3o\\xe0\\x18\\x03\\x0c'b'{\\x8c\\x9c\\x9c\\xe3\\xe0'\f\f#b'g\\xe3|\\x03l'b\"\\x8c\\x8e\\x0cc\\xc4\\xf2'o\\xef\\x00$\\x8c\"b\"l`\\x03\\x98\\x13\\x1bg'\\x0cl`\\x03\\x07\\x03or\\xc7\\x9b\\x92'\\x0c\\x0c\\x03\\x0cd`\\x028\\xfbg\\xe0\\x10\\x03\\x0c\"b\"r\\x84\\x9c\\xdc\\xe3\\xe0\\x0c\\x8e\\x1c\\x80\\x0cb\\x0c'\\xe3|\\x03dl\\x84\"b'\\x87b\\x8c\\xf3og\\xe7\\x00\\x0c'b\"$`\\x03\\x90\\x13\\x1bo'\"b\"\\xc7\\x07l\\x07\\x03o;\\xc7\\x9b\\xdb'\"b'\\x0c{#\\x93`\\x03\\x07{\\xdb\\x93o\\x0c'b\";c\\x9b`\\x03\\x84\\xe3\\x03\\xec\\x13\\x83g\\xe4\\xdbs\\x83\\xfb'|\\xec\\x0cd\\x0cldl \\x03\\x1cb\\x9b\\x1b\\x03\"b'\\x9f|\\x02{\\x93\\x03l\\xdco\\xe0'b'\\x83o\\xe3\\x00'b'l \\x03\\x8c\\xe2{\\x93l\\x84l\\x1b\\xc4\\x0c'b'\\x0cl`\\x03\\x84\\xe3{\\x9bd\\xecl\\x12\\x8c'b'\\x0cd`\\x02\\x8c\\xe3r\\x9bl\\x0c\\x8f\\xdf\\x00\\x84'b'\\x0cdl`\\x03sd\\x8e\\x83rl\\x8c\\xdf\\xe3\\x8cb'b'\\xc4\\x8cb\\x1c|\\x0c$c\\x9c\\xe3\\x9c\\x03b<\\x98\\x84\\xc4\\x8c'b'llb\\xec\\xf3o\\xee\\x80\\x1bog\\xe3\\x10\\x02'b'\\x03\\x8clo\\xdf'b'\\xec'b'\\xc4\\x0cd\\xec\\xc7$l\\x84'Ǆ\fb'$`\\x03\\x80\\x03g\\xfc\\x00\\x8c\\x9e\\xe3\\x8cb'b'll\\xe4\\x8c\\x8e\\x12\\x0cb\\x0c\\x03\\x03\\x8c\\x9e\\xe3\\x8cc'b'l\\x0c\\xc4c\\x1crd;l{\\xf3o\\x9c\\xe3\\x00\\x8c\\x0c\\xe4\\xc3\\x13\\x03c\\x1c\\x0f#\\x8c\\x9c\\x87\\x1f\\x8e\\xc4\\x8c\\xe4\\x0c\\x8c$\\x87p\\xec$\\xdcdc\\xe4c\\xec\\xf3o\\xdc\\x9f\\xc0\\x80\\x03c\\x1c\\x1bc\\x8c\\xdc\\x8f\\x1f\\x87\\x84\\xc4\\xec'b'\\x8cl\\x8f8\\xe4d\\x9clb\\x07d\\x03\\x83\\xffConectando a la red Wi-Fi...\\r\\n'Conexión Wi-Fi establecida: ('192.168.0.6', '255.255.255.0', '192.168.0.1', '10.240.80.242')\n"
     ]
    },
    {
     "name": "stdout",
     "output_type": "stream",
     "text": [
      "."
     ]
    },
    {
     "name": "stderr",
     "output_type": "stream",
     "text": [
      "Conectado al servidor MQTT en Mosquitto\n",
      "Datos enviados: 263,26.5,90\n",
      "Datos enviados: 263,26.5,90\n"
     ]
    },
    {
     "name": "stdout",
     "output_type": "stream",
     "text": [
      "."
     ]
    },
    {
     "name": "stderr",
     "output_type": "stream",
     "text": [
      "Datos enviados: 263,26.5,90\n",
      "Datos enviados: 263,26.5,90\n"
     ]
    },
    {
     "name": "stdout",
     "output_type": "stream",
     "text": [
      "."
     ]
    },
    {
     "name": "stderr",
     "output_type": "stream",
     "text": [
      "Datos enviados: 263,26.5,90\n",
      "Desconectado del servidor MQTT\n",
      "\n",
      "MicroPython v1.23.0 on 2024-06-02; ESP module with ESP8266\n",
      "Type \"help()\" for more information.\n"
     ]
    },
    {
     "name": "stdout",
     "output_type": "stream",
     "text": [
      "[too many x04s 43]"
     ]
    }
   ],
   "source": [
    "%serialconnect to --port=COM3 --baud=115200\n",
    "from machine import UART\n",
    "import time\n",
    "\n",
    "# Configuración del puerto serial\n",
    "uart = UART(0, baudrate=115200)\n",
    "\n",
    "while True:\n",
    "    if uart.any():\n",
    "        data = uart.readline()\n",
    "        if data:\n",
    "            try:\n",
    "                # Decodifica los datos recibidos en texto\n",
    "                data_str = data.decode('utf-8').strip()\n",
    "                \n",
    "                # Divide los datos por comas\n",
    "                datos = data_str.split(',')\n",
    "                \n",
    "                # Asegura que haya 3 datos antes de imprimir\n",
    "                d1 = datos[0]\n",
    "                d2 = datos[1]\n",
    "                d3 = datos[2]\n",
    "                if len(datos) == 3:\n",
    "                    print(d1)\n",
    "                    print(d2)\n",
    "                    print(d3)\n",
    "                \n",
    "            except UnicodeDecodeError:\n",
    "                print(\"Error en la decodificación de datos\")\n",
    "                \n",
    "    time.sleep(0.1)  # Pequeña pausa para evitar sobrecarga\n"
   ]
  }
 ],
 "metadata": {
  "kernelspec": {
   "display_name": "MicroPython - USB",
   "language": "micropython",
   "name": "micropython"
  },
  "language_info": {
   "codemirror_mode": "python",
   "file_extension": ".py",
   "mimetype": "text/python",
   "name": "micropython"
  }
 },
 "nbformat": 4,
 "nbformat_minor": 2
}
